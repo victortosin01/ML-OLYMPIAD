{
  "cells": [
    {
      "cell_type": "markdown",
      "metadata": {
        "id": "dcptjjI_67NB"
      },
      "source": [
        "\n",
        "# **ML-Olympiad---GOOD-HEALTH-AND-WELL-BEING-HACKATHON**"
      ]
    },
    {
      "cell_type": "markdown",
      "metadata": {
        "id": "6z1pjpcHIvDs"
      },
      "source": [
        "### ***Setting Up***"
      ]
    },
    {
      "cell_type": "code",
      "execution_count": 135,
      "metadata": {
        "colab": {
          "base_uri": "https://localhost:8080/"
        },
        "id": "zYNZDEUQHAfE",
        "outputId": "cafd556e-1cb8-4da1-e980-60c31aaf231b"
      },
      "outputs": [
        {
          "output_type": "stream",
          "name": "stdout",
          "text": [
            "Requirement already satisfied: catboost in /usr/local/lib/python3.7/dist-packages (1.0.4)\n",
            "Requirement already satisfied: pandas>=0.24.0 in /usr/local/lib/python3.7/dist-packages (from catboost) (1.3.5)\n",
            "Requirement already satisfied: scipy in /usr/local/lib/python3.7/dist-packages (from catboost) (1.4.1)\n",
            "Requirement already satisfied: graphviz in /usr/local/lib/python3.7/dist-packages (from catboost) (0.10.1)\n",
            "Requirement already satisfied: plotly in /usr/local/lib/python3.7/dist-packages (from catboost) (5.5.0)\n",
            "Requirement already satisfied: matplotlib in /usr/local/lib/python3.7/dist-packages (from catboost) (3.2.2)\n",
            "Requirement already satisfied: numpy>=1.16.0 in /usr/local/lib/python3.7/dist-packages (from catboost) (1.21.5)\n",
            "Requirement already satisfied: six in /usr/local/lib/python3.7/dist-packages (from catboost) (1.15.0)\n",
            "Requirement already satisfied: pytz>=2017.3 in /usr/local/lib/python3.7/dist-packages (from pandas>=0.24.0->catboost) (2018.9)\n",
            "Requirement already satisfied: python-dateutil>=2.7.3 in /usr/local/lib/python3.7/dist-packages (from pandas>=0.24.0->catboost) (2.8.2)\n",
            "Requirement already satisfied: kiwisolver>=1.0.1 in /usr/local/lib/python3.7/dist-packages (from matplotlib->catboost) (1.3.2)\n",
            "Requirement already satisfied: cycler>=0.10 in /usr/local/lib/python3.7/dist-packages (from matplotlib->catboost) (0.11.0)\n",
            "Requirement already satisfied: pyparsing!=2.0.4,!=2.1.2,!=2.1.6,>=2.0.1 in /usr/local/lib/python3.7/dist-packages (from matplotlib->catboost) (3.0.7)\n",
            "Requirement already satisfied: tenacity>=6.2.0 in /usr/local/lib/python3.7/dist-packages (from plotly->catboost) (8.0.1)\n"
          ]
        }
      ],
      "source": [
        "!pip install catboost"
      ]
    },
    {
      "cell_type": "markdown",
      "metadata": {
        "id": "Dy112ymw7Whe"
      },
      "source": [
        "### Importing Libaries"
      ]
    },
    {
      "cell_type": "code",
      "execution_count": 98,
      "metadata": {
        "id": "y9GPJ3sw4ntm"
      },
      "outputs": [],
      "source": [
        "import numpy as np\n",
        "import pandas as pd\n",
        "import matplotlib.pyplot as plt\n",
        "import random\n",
        "\n",
        "from catboost import CatBoostClassifier\n",
        "from xgboost import XGBClassifier\n",
        "from lightgbm import LGBMClassifier\n",
        "\n",
        "from sklearn.model_selection import train_test_split, StratifiedKFold, StratifiedShuffleSplit\n",
        "from sklearn.metrics import classification_report, confusion_matrix, f1_score, roc_auc_score\n",
        "from sklearn.cluster import KMeans\n",
        "\n",
        "from imblearn.over_sampling import SMOTE\n",
        "\n",
        "from sklearn.preprocessing import PolynomialFeatures\n",
        "\n",
        "import warnings\n",
        "warnings.filterwarnings('ignore')"
      ]
    },
    {
      "cell_type": "markdown",
      "metadata": {
        "id": "pFKybZQZ8SCP"
      },
      "source": [
        "### **Dataset Preprocessing**"
      ]
    },
    {
      "cell_type": "code",
      "execution_count": 99,
      "metadata": {
        "id": "CSh0RabfFAS2"
      },
      "outputs": [],
      "source": [
        "def seed_everything(seed):\n",
        "    random.seed(seed)\n",
        "    np.random.seed(seed)\n",
        "SEED = 2022   \n",
        "seed_everything(SEED) "
      ]
    },
    {
      "cell_type": "code",
      "execution_count": 100,
      "metadata": {
        "id": "VzEtuJlU8KvC"
      },
      "outputs": [],
      "source": [
        "train_df = pd.read_csv('Ml-Olympiad/train.csv')\n",
        "test_df = pd.read_csv('Ml-Olympiad/test.csv')\n",
        "sample_submission = pd.read_csv('Ml-Olympiad/sample_submission.csv')"
      ]
    },
    {
      "cell_type": "code",
      "execution_count": 101,
      "metadata": {
        "colab": {
          "base_uri": "https://localhost:8080/",
          "height": 0
        },
        "id": "kgEefiNS_WE6",
        "outputId": "4a0447b1-bce3-423b-b648-3fbc2f8e8353"
      },
      "outputs": [
        {
          "output_type": "execute_result",
          "data": {
            "text/html": [
              "\n",
              "  <div id=\"df-62e80f90-b47d-4c94-938e-4c7776732dbd\">\n",
              "    <div class=\"colab-df-container\">\n",
              "      <div>\n",
              "<style scoped>\n",
              "    .dataframe tbody tr th:only-of-type {\n",
              "        vertical-align: middle;\n",
              "    }\n",
              "\n",
              "    .dataframe tbody tr th {\n",
              "        vertical-align: top;\n",
              "    }\n",
              "\n",
              "    .dataframe thead th {\n",
              "        text-align: right;\n",
              "    }\n",
              "</style>\n",
              "<table border=\"1\" class=\"dataframe\">\n",
              "  <thead>\n",
              "    <tr style=\"text-align: right;\">\n",
              "      <th></th>\n",
              "      <th>PatientID</th>\n",
              "      <th>HighBP</th>\n",
              "      <th>HighChol</th>\n",
              "      <th>CholCheck</th>\n",
              "      <th>BMI</th>\n",
              "      <th>Smoker</th>\n",
              "      <th>Stroke</th>\n",
              "      <th>Diabetes</th>\n",
              "      <th>PhysActivity</th>\n",
              "      <th>Fruits</th>\n",
              "      <th>Veggies</th>\n",
              "      <th>HvyAlcoholConsump</th>\n",
              "      <th>AnyHealthcare</th>\n",
              "      <th>NoDocbcCost</th>\n",
              "      <th>GenHlth</th>\n",
              "      <th>MentHlth</th>\n",
              "      <th>PhysHlth</th>\n",
              "      <th>DiffWalk</th>\n",
              "      <th>Sex</th>\n",
              "      <th>Age</th>\n",
              "      <th>Education</th>\n",
              "      <th>Income</th>\n",
              "      <th>target</th>\n",
              "    </tr>\n",
              "  </thead>\n",
              "  <tbody>\n",
              "    <tr>\n",
              "      <th>0</th>\n",
              "      <td>42351</td>\n",
              "      <td>1</td>\n",
              "      <td>1</td>\n",
              "      <td>1</td>\n",
              "      <td>29</td>\n",
              "      <td>0</td>\n",
              "      <td>0</td>\n",
              "      <td>0</td>\n",
              "      <td>1</td>\n",
              "      <td>1</td>\n",
              "      <td>1</td>\n",
              "      <td>0</td>\n",
              "      <td>1</td>\n",
              "      <td>0</td>\n",
              "      <td>3</td>\n",
              "      <td>0</td>\n",
              "      <td>0</td>\n",
              "      <td>0</td>\n",
              "      <td>0</td>\n",
              "      <td>13</td>\n",
              "      <td>5</td>\n",
              "      <td>8</td>\n",
              "      <td>0</td>\n",
              "    </tr>\n",
              "    <tr>\n",
              "      <th>1</th>\n",
              "      <td>135091</td>\n",
              "      <td>1</td>\n",
              "      <td>0</td>\n",
              "      <td>1</td>\n",
              "      <td>30</td>\n",
              "      <td>0</td>\n",
              "      <td>1</td>\n",
              "      <td>2</td>\n",
              "      <td>0</td>\n",
              "      <td>0</td>\n",
              "      <td>0</td>\n",
              "      <td>0</td>\n",
              "      <td>0</td>\n",
              "      <td>0</td>\n",
              "      <td>2</td>\n",
              "      <td>0</td>\n",
              "      <td>0</td>\n",
              "      <td>0</td>\n",
              "      <td>0</td>\n",
              "      <td>9</td>\n",
              "      <td>5</td>\n",
              "      <td>6</td>\n",
              "      <td>0</td>\n",
              "    </tr>\n",
              "    <tr>\n",
              "      <th>2</th>\n",
              "      <td>201403</td>\n",
              "      <td>0</td>\n",
              "      <td>0</td>\n",
              "      <td>1</td>\n",
              "      <td>31</td>\n",
              "      <td>0</td>\n",
              "      <td>0</td>\n",
              "      <td>0</td>\n",
              "      <td>1</td>\n",
              "      <td>1</td>\n",
              "      <td>1</td>\n",
              "      <td>0</td>\n",
              "      <td>1</td>\n",
              "      <td>0</td>\n",
              "      <td>2</td>\n",
              "      <td>0</td>\n",
              "      <td>7</td>\n",
              "      <td>0</td>\n",
              "      <td>0</td>\n",
              "      <td>10</td>\n",
              "      <td>6</td>\n",
              "      <td>8</td>\n",
              "      <td>0</td>\n",
              "    </tr>\n",
              "  </tbody>\n",
              "</table>\n",
              "</div>\n",
              "      <button class=\"colab-df-convert\" onclick=\"convertToInteractive('df-62e80f90-b47d-4c94-938e-4c7776732dbd')\"\n",
              "              title=\"Convert this dataframe to an interactive table.\"\n",
              "              style=\"display:none;\">\n",
              "        \n",
              "  <svg xmlns=\"http://www.w3.org/2000/svg\" height=\"24px\"viewBox=\"0 0 24 24\"\n",
              "       width=\"24px\">\n",
              "    <path d=\"M0 0h24v24H0V0z\" fill=\"none\"/>\n",
              "    <path d=\"M18.56 5.44l.94 2.06.94-2.06 2.06-.94-2.06-.94-.94-2.06-.94 2.06-2.06.94zm-11 1L8.5 8.5l.94-2.06 2.06-.94-2.06-.94L8.5 2.5l-.94 2.06-2.06.94zm10 10l.94 2.06.94-2.06 2.06-.94-2.06-.94-.94-2.06-.94 2.06-2.06.94z\"/><path d=\"M17.41 7.96l-1.37-1.37c-.4-.4-.92-.59-1.43-.59-.52 0-1.04.2-1.43.59L10.3 9.45l-7.72 7.72c-.78.78-.78 2.05 0 2.83L4 21.41c.39.39.9.59 1.41.59.51 0 1.02-.2 1.41-.59l7.78-7.78 2.81-2.81c.8-.78.8-2.07 0-2.86zM5.41 20L4 18.59l7.72-7.72 1.47 1.35L5.41 20z\"/>\n",
              "  </svg>\n",
              "      </button>\n",
              "      \n",
              "  <style>\n",
              "    .colab-df-container {\n",
              "      display:flex;\n",
              "      flex-wrap:wrap;\n",
              "      gap: 12px;\n",
              "    }\n",
              "\n",
              "    .colab-df-convert {\n",
              "      background-color: #E8F0FE;\n",
              "      border: none;\n",
              "      border-radius: 50%;\n",
              "      cursor: pointer;\n",
              "      display: none;\n",
              "      fill: #1967D2;\n",
              "      height: 32px;\n",
              "      padding: 0 0 0 0;\n",
              "      width: 32px;\n",
              "    }\n",
              "\n",
              "    .colab-df-convert:hover {\n",
              "      background-color: #E2EBFA;\n",
              "      box-shadow: 0px 1px 2px rgba(60, 64, 67, 0.3), 0px 1px 3px 1px rgba(60, 64, 67, 0.15);\n",
              "      fill: #174EA6;\n",
              "    }\n",
              "\n",
              "    [theme=dark] .colab-df-convert {\n",
              "      background-color: #3B4455;\n",
              "      fill: #D2E3FC;\n",
              "    }\n",
              "\n",
              "    [theme=dark] .colab-df-convert:hover {\n",
              "      background-color: #434B5C;\n",
              "      box-shadow: 0px 1px 3px 1px rgba(0, 0, 0, 0.15);\n",
              "      filter: drop-shadow(0px 1px 2px rgba(0, 0, 0, 0.3));\n",
              "      fill: #FFFFFF;\n",
              "    }\n",
              "  </style>\n",
              "\n",
              "      <script>\n",
              "        const buttonEl =\n",
              "          document.querySelector('#df-62e80f90-b47d-4c94-938e-4c7776732dbd button.colab-df-convert');\n",
              "        buttonEl.style.display =\n",
              "          google.colab.kernel.accessAllowed ? 'block' : 'none';\n",
              "\n",
              "        async function convertToInteractive(key) {\n",
              "          const element = document.querySelector('#df-62e80f90-b47d-4c94-938e-4c7776732dbd');\n",
              "          const dataTable =\n",
              "            await google.colab.kernel.invokeFunction('convertToInteractive',\n",
              "                                                     [key], {});\n",
              "          if (!dataTable) return;\n",
              "\n",
              "          const docLinkHtml = 'Like what you see? Visit the ' +\n",
              "            '<a target=\"_blank\" href=https://colab.research.google.com/notebooks/data_table.ipynb>data table notebook</a>'\n",
              "            + ' to learn more about interactive tables.';\n",
              "          element.innerHTML = '';\n",
              "          dataTable['output_type'] = 'display_data';\n",
              "          await google.colab.output.renderOutput(dataTable, element);\n",
              "          const docLink = document.createElement('div');\n",
              "          docLink.innerHTML = docLinkHtml;\n",
              "          element.appendChild(docLink);\n",
              "        }\n",
              "      </script>\n",
              "    </div>\n",
              "  </div>\n",
              "  "
            ],
            "text/plain": [
              "   PatientID  HighBP  HighChol  CholCheck  ...  Age  Education  Income  target\n",
              "0      42351       1         1          1  ...   13          5       8       0\n",
              "1     135091       1         0          1  ...    9          5       6       0\n",
              "2     201403       0         0          1  ...   10          6       8       0\n",
              "\n",
              "[3 rows x 23 columns]"
            ]
          },
          "metadata": {},
          "execution_count": 101
        }
      ],
      "source": [
        "train_df.head(3)"
      ]
    },
    {
      "cell_type": "code",
      "execution_count": 102,
      "metadata": {
        "id": "ZLgmpTpI_k9p"
      },
      "outputs": [],
      "source": [
        "X_df = train_df.drop(['PatientID','target'], axis = 1)\n",
        "y = train_df['target']\n",
        "\n",
        "test_df = test_df.drop('PatientID', axis = 1)"
      ]
    },
    {
      "cell_type": "code",
      "source": [
        "train_df.isnull().sum().sum(), pd.read_csv('Ml-Olympiad/train.csv').isnull().sum().sum()"
      ],
      "metadata": {
        "colab": {
          "base_uri": "https://localhost:8080/"
        },
        "id": "VcJRzPl7tTB1",
        "outputId": "c9dd4360-ead2-4513-eed6-b3dbe5fb71b0"
      },
      "execution_count": 103,
      "outputs": [
        {
          "output_type": "execute_result",
          "data": {
            "text/plain": [
              "(0, 0)"
            ]
          },
          "metadata": {},
          "execution_count": 103
        }
      ]
    },
    {
      "cell_type": "markdown",
      "metadata": {
        "id": "EWbwL2H9Akwm"
      },
      "source": [
        " ### **Feature Engineering and Selection**"
      ]
    },
    {
      "cell_type": "markdown",
      "metadata": {
        "id": "sulQFrO-AxiW"
      },
      "source": [
        "**1. Feature Interaction**"
      ]
    },
    {
      "cell_type": "code",
      "execution_count": 104,
      "metadata": {
        "id": "YbeBlgRJAge0"
      },
      "outputs": [],
      "source": [
        "feat_interact = PolynomialFeatures(interaction_only = True, include_bias = False)\n",
        "train_fi = feat_interact.fit_transform(X_df)\n",
        "test_fi = feat_interact.fit_transform(test_df)\n",
        "\n",
        "col_names = [f'col_{n}' for n in range(1,232)]\n",
        "\n",
        "train_fi = pd.DataFrame(train_fi, columns = col_names)\n",
        "test_fi = pd.DataFrame(test_fi, columns = col_names)"
      ]
    },
    {
      "cell_type": "code",
      "execution_count": 105,
      "metadata": {
        "colab": {
          "base_uri": "https://localhost:8080/"
        },
        "id": "42mPucpWAgo5",
        "outputId": "3b3b3a4e-9751-4909-a215-c0cbc14584e9"
      },
      "outputs": [
        {
          "output_type": "execute_result",
          "data": {
            "text/plain": [
              "((177576, 231), (76104, 231))"
            ]
          },
          "metadata": {},
          "execution_count": 105
        }
      ],
      "source": [
        "train_fi.shape, test_fi.shape"
      ]
    },
    {
      "cell_type": "code",
      "execution_count": 106,
      "metadata": {
        "id": "v6p0TaczYtZQ"
      },
      "outputs": [],
      "source": [
        "imp_featues = ['col_208', 'col_34', 'col_22', 'col_57', 'col_53', 'col_26', 'col_119',\n",
        "       'col_63', 'col_38', 'col_39', 'col_23', 'col_226', 'col_44', 'col_17',\n",
        "       'col_74', 'col_42', 'col_37', 'col_6', 'col_75'] ## 'col_18',\n",
        "\n",
        "X = pd.concat([X_df, train_fi[imp_featues]], axis = 1)\n",
        "test = pd.concat([test_df, test_fi[imp_featues]], axis = 1)"
      ]
    },
    {
      "cell_type": "markdown",
      "metadata": {
        "id": "u69IKJRntaoj"
      },
      "source": [
        "**2. Clustering**"
      ]
    },
    {
      "cell_type": "code",
      "execution_count": 107,
      "metadata": {
        "id": "98gCi8r6xqkc"
      },
      "outputs": [],
      "source": [
        "cluster_1 = ['HighBP', 'HighChol', 'CholCheck', 'BMI']\n",
        "cluster_2 = ['Smoker', 'Stroke','Diabetes', 'PhysActivity']\n",
        "cluster_3 = ['Fruits', 'Veggies', 'HvyAlcoholConsump','AnyHealthcare']\n",
        "cluster_4 = ['NoDocbcCost', 'GenHlth', 'MentHlth', 'PhysHlth']\n",
        "\n",
        "cluster_zip = [('cluster_1',cluster_1),('cluster_2',cluster_2),('cluster_3',cluster_3),('cluster_4',cluster_4)]#\n",
        "\n",
        "for cluster_name, cluster_col in cluster_zip:\n",
        "  cluster = KMeans(n_clusters = 4)\n",
        "  cluster.fit(X[cluster_col])\n",
        "  X[cluster_name] = cluster.predict(X[cluster_col])\n",
        "  test[cluster_name] = cluster.predict(test[cluster_col])"
      ]
    },
    {
      "cell_type": "markdown",
      "source": [
        "3. **OneHotEncoding of**"
      ],
      "metadata": {
        "id": "_fc2zMkvtuwC"
      }
    },
    {
      "cell_type": "code",
      "source": [
        "X['Diabetes'] = X['Diabetes'].apply(lambda x: str(x))\n",
        "test['Diabetes'] = test['Diabetes'].apply(lambda x: str(x))"
      ],
      "metadata": {
        "id": "WBGyoQT2udfM"
      },
      "execution_count": 108,
      "outputs": []
    },
    {
      "cell_type": "code",
      "source": [
        "X = pd.get_dummies(X, drop_first = True)\n",
        "test = pd.get_dummies(test, drop_first = True)"
      ],
      "metadata": {
        "id": "Lay6VteFus3B"
      },
      "execution_count": 109,
      "outputs": []
    },
    {
      "cell_type": "markdown",
      "metadata": {
        "id": "k3JHDgI5AUyu"
      },
      "source": [
        "**CV fold**"
      ]
    },
    {
      "cell_type": "code",
      "execution_count": 110,
      "metadata": {
        "id": "1bzIEBfOAT0r"
      },
      "outputs": [],
      "source": [
        "skfold = StratifiedKFold(n_splits = 10, random_state = 2022, shuffle = True)"
      ]
    },
    {
      "cell_type": "markdown",
      "metadata": {
        "id": "X9xXcIGaAGRS"
      },
      "source": [
        "# **XGBoost CV**"
      ]
    },
    {
      "cell_type": "code",
      "execution_count": 111,
      "metadata": {
        "colab": {
          "base_uri": "https://localhost:8080/"
        },
        "id": "6mibQt_2_zoJ",
        "outputId": "896c219e-5cac-4fe9-fcd9-72029993d582"
      },
      "outputs": [
        {
          "output_type": "stream",
          "name": "stdout",
          "text": [
            "***************************Fold :1***********************************************\n",
            "[0]\tvalidation_0-auc:0.83297\n",
            "Will train until validation_0-auc hasn't improved in 200 rounds.\n",
            "[99]\tvalidation_0-auc:0.850219\n",
            "Train score : 0.8805244515923771\n",
            "Validation score : 0.8510782095578371\n",
            "\n",
            "***************************Fold :2***********************************************\n",
            "[0]\tvalidation_0-auc:0.836256\n",
            "Will train until validation_0-auc hasn't improved in 200 rounds.\n",
            "[99]\tvalidation_0-auc:0.851378\n",
            "Train score : 0.8684256033660581\n",
            "Validation score : 0.8525730108707831\n",
            "\n",
            "***************************Fold :3***********************************************\n",
            "[0]\tvalidation_0-auc:0.829304\n",
            "Will train until validation_0-auc hasn't improved in 200 rounds.\n",
            "[99]\tvalidation_0-auc:0.847772\n",
            "Train score : 0.8670529103774676\n",
            "Validation score : 0.8490144166497431\n",
            "\n",
            "***************************Fold :4***********************************************\n",
            "[0]\tvalidation_0-auc:0.822183\n",
            "Will train until validation_0-auc hasn't improved in 200 rounds.\n",
            "[99]\tvalidation_0-auc:0.841286\n",
            "Train score : 0.8676252010130405\n",
            "Validation score : 0.842330502498959\n",
            "\n",
            "***************************Fold :5***********************************************\n",
            "[0]\tvalidation_0-auc:0.823974\n",
            "Will train until validation_0-auc hasn't improved in 200 rounds.\n",
            "[99]\tvalidation_0-auc:0.848186\n",
            "Train score : 0.8810459842533312\n",
            "Validation score : 0.8491682802119123\n",
            "\n",
            "***************************Fold :6***********************************************\n",
            "[0]\tvalidation_0-auc:0.830494\n",
            "Will train until validation_0-auc hasn't improved in 200 rounds.\n",
            "[99]\tvalidation_0-auc:0.846347\n",
            "Train score : 0.8629478335999226\n",
            "Validation score : 0.8485317187290101\n",
            "\n",
            "***************************Fold :7***********************************************\n",
            "[0]\tvalidation_0-auc:0.825116\n",
            "Will train until validation_0-auc hasn't improved in 200 rounds.\n",
            "[99]\tvalidation_0-auc:0.846853\n",
            "Train score : 0.8749224338513542\n",
            "Validation score : 0.848044405245459\n",
            "\n",
            "***************************Fold :8***********************************************\n",
            "[0]\tvalidation_0-auc:0.823698\n",
            "Will train until validation_0-auc hasn't improved in 200 rounds.\n",
            "[99]\tvalidation_0-auc:0.847013\n",
            "Train score : 0.8701803163932607\n",
            "Validation score : 0.8488166372426389\n",
            "\n",
            "***************************Fold :9***********************************************\n",
            "[0]\tvalidation_0-auc:0.824061\n",
            "Will train until validation_0-auc hasn't improved in 200 rounds.\n",
            "[99]\tvalidation_0-auc:0.845502\n",
            "Train score : 0.8580942290475195\n",
            "Validation score : 0.8462910851888814\n",
            "\n",
            "***************************Fold :10***********************************************\n",
            "[0]\tvalidation_0-auc:0.827957\n",
            "Will train until validation_0-auc hasn't improved in 200 rounds.\n",
            "[99]\tvalidation_0-auc:0.846364\n",
            "Train score : 0.8803908777898363\n",
            "Validation score : 0.8473124980479004\n",
            "\n",
            "Training ROC score : 0.8711209841284168\n",
            "Testing ROC score : 0.8483160764243125 +/- 0.0026128628539936905\n"
          ]
        }
      ],
      "source": [
        "model_xgb = XGBClassifier(objective='binary:logistic', max_depth =  10,\n",
        "          learning_rate = 0.06808766268462589, colsample_bytree = 0.5124699707194202, \n",
        "             subsample =  0.4553243247037658, reg_alpha =  1.5936907054484504, random_state = 117)\n",
        "\n",
        "\n",
        "train_roc_xgb, val_roc_xgb = [], []\n",
        "\n",
        "train_pred_xgb = np.zeros(len(X))\n",
        "val_pred_xgb = np.zeros(len(X))\n",
        "test_pred_xgb = np.zeros(len(test))\n",
        "fold = 0\n",
        "\n",
        "for train_index, val_index in skfold.split(X, y):\n",
        "    X_train = X.iloc[train_index] ; y_train = y.iloc[train_index].values\n",
        "    X_val = X.iloc[val_index] ; y_val = y.iloc[val_index].values\n",
        "    fold += 1\n",
        "    print(f'***************************Fold :{fold}***********************************************')\n",
        "    \n",
        "    model_xgb.fit(X_train, y_train, early_stopping_rounds = 200, eval_metric=\"auc\",\n",
        "                       eval_set=[(X_val, y_val)],verbose=250)\n",
        "    \n",
        "    train_pred = model_xgb.predict_proba(X_train, ntree_limit = model_xgb.get_booster().best_ntree_limit)[:,1]\n",
        "    val_pred = model_xgb.predict_proba(X_val, ntree_limit = model_xgb.get_booster().best_ntree_limit)[:,1]\n",
        "\n",
        "    train_pred_xgb[train_index] = train_pred\n",
        "    val_pred_xgb[val_index] = val_pred\n",
        "    \n",
        "    test_pred_xgb += model_xgb.predict_proba(test)[:,1]\n",
        "    \n",
        "    print(f'Train score : {roc_auc_score(y_train, train_pred)}')\n",
        "    print(f'Validation score : {roc_auc_score(y_val, val_pred)}\\n')\n",
        "    \n",
        "   \n",
        "    train_roc_xgb.append(roc_auc_score(y_train, train_pred)); val_roc_xgb.append(roc_auc_score(y_val,val_pred))\n",
        "    \n",
        "test_pred_xgb = test_pred_xgb / 10\n",
        "print(f'Training ROC score : {np.mean(train_roc_xgb)}')\n",
        "print(f'Testing ROC score : {np.mean(val_roc_xgb)} +/- {np.std(val_roc_xgb)}')"
      ]
    },
    {
      "cell_type": "markdown",
      "metadata": {
        "id": "AUiTGymkDAuU"
      },
      "source": [
        "### **Model Prediction**"
      ]
    },
    {
      "cell_type": "code",
      "execution_count": 112,
      "metadata": {
        "id": "QyTYGH2SB0lz"
      },
      "outputs": [],
      "source": [
        "train_prediction = pd.DataFrame({'XGBoost_Prob': val_pred_xgb})"
      ]
    },
    {
      "cell_type": "code",
      "execution_count": 113,
      "metadata": {
        "id": "2vDze43YC8Xo"
      },
      "outputs": [],
      "source": [
        "test_prediction = pd.DataFrame({'XGBoost_Prob': test_pred_xgb})\n",
        "xgb_test_pred = test_prediction['XGBoost_Prob'].apply(lambda x: 1 if x >= 0.2 else 0)\n",
        "\n",
        "sub_1 = sample_submission.copy()\n",
        "sub_1['target'] = xgb_test_pred\n",
        "sub_1.to_csv('Ml-Olympiad/Xgboost_unbal.csv', index = False)"
      ]
    },
    {
      "cell_type": "markdown",
      "metadata": {
        "id": "j5Ft6Tls6jbV"
      },
      "source": [
        "# **LightGBM CV**"
      ]
    },
    {
      "cell_type": "code",
      "execution_count": 114,
      "metadata": {
        "id": "9DkrI6O66oVY"
      },
      "outputs": [],
      "source": [
        "model_lgb = LGBMClassifier(boosting_type =  'gbdt',objective = 'binary',random_state=34, n_estimators=500,\n",
        "    colsample_bytree=0.9, min_child_samples=10, subsample=0.7, subsample_freq=2,\n",
        "    num_leaves=120,reg_lambda=2, reg_alpha=5 ,metric='auc', learning_rate=0.008, max_depth=5)"
      ]
    },
    {
      "cell_type": "code",
      "source": [
        "train_roc_lgb, val_roc_lgb = [], []\n",
        "\n",
        "train_pred_lgb = np.zeros(len(X))\n",
        "val_pred_lgb = np.zeros(len(X))\n",
        "test_pred_lgb = np.zeros(len(test))\n",
        "fold = 0\n",
        "\n",
        "for train_index, val_index in skfold.split(X, y):\n",
        "    X_train = X.iloc[train_index] ; y_train = y.iloc[train_index].values\n",
        "    X_val = X.iloc[val_index] ; y_val = y.iloc[val_index].values\n",
        "    fold += 1\n",
        "    print(f'***************************Fold :{fold}***********************************************')\n",
        "    \n",
        "    model_lgb.fit(X_train,y_train,eval_set=[(X_val,y_val)],early_stopping_rounds=200,\n",
        "                               verbose=250)\n",
        "    train_pred = model_lgb.predict_proba(X_train,  num_iteration = model_lgb.best_iteration_)[:,1]\n",
        "    val_pred = model_lgb.predict_proba(X_val, num_iteration = model_lgb.best_iteration_)[:,1]\n",
        "\n",
        "    train_pred_lgb[train_index] = train_pred\n",
        "    val_pred_lgb[val_index] = val_pred\n",
        "    \n",
        "    test_pred_lgb += model_lgb.predict_proba(test)[:,1]\n",
        "    \n",
        "    print(f'Train score : {roc_auc_score(y_train, train_pred)}')\n",
        "    print(f'Validation score : {roc_auc_score(y_val, val_pred)}\\n')\n",
        "    \n",
        "   \n",
        "    train_roc_lgb.append(roc_auc_score(y_train, train_pred)); val_roc_lgb.append(roc_auc_score(y_val,val_pred))\n",
        "    \n",
        "test_pred_lgb = test_pred_lgb / 10\n",
        "print(f'Training ROC score : {np.mean(train_roc_lgb)}')\n",
        "print(f'Testing ROC score : {np.mean(val_roc_lgb)} +/- {np.std(val_roc_lgb)}')"
      ],
      "metadata": {
        "colab": {
          "base_uri": "https://localhost:8080/"
        },
        "id": "Xp2FZ6PSJTvG",
        "outputId": "0c391ced-5532-49f9-b39e-a9289f506913"
      },
      "execution_count": 115,
      "outputs": [
        {
          "output_type": "stream",
          "name": "stdout",
          "text": [
            "***************************Fold :1***********************************************\n",
            "Training until validation scores don't improve for 200 rounds.\n",
            "[250]\tvalid_0's auc: 0.848947\n",
            "[500]\tvalid_0's auc: 0.851159\n",
            "Did not meet early stopping. Best iteration is:\n",
            "[500]\tvalid_0's auc: 0.851159\n",
            "Train score : 0.8532795123333422\n",
            "Validation score : 0.8511585938796671\n",
            "\n",
            "***************************Fold :2***********************************************\n",
            "Training until validation scores don't improve for 200 rounds.\n",
            "[250]\tvalid_0's auc: 0.851858\n",
            "[500]\tvalid_0's auc: 0.8533\n",
            "Did not meet early stopping. Best iteration is:\n",
            "[500]\tvalid_0's auc: 0.8533\n",
            "Train score : 0.8530632875977309\n",
            "Validation score : 0.8533004114981658\n",
            "\n",
            "***************************Fold :3***********************************************\n",
            "Training until validation scores don't improve for 200 rounds.\n",
            "[250]\tvalid_0's auc: 0.847278\n",
            "[500]\tvalid_0's auc: 0.849568\n",
            "Did not meet early stopping. Best iteration is:\n",
            "[500]\tvalid_0's auc: 0.849568\n",
            "Train score : 0.8535235013625165\n",
            "Validation score : 0.8495678869781929\n",
            "\n",
            "***************************Fold :4***********************************************\n",
            "Training until validation scores don't improve for 200 rounds.\n",
            "[250]\tvalid_0's auc: 0.841583\n",
            "[500]\tvalid_0's auc: 0.843933\n",
            "Did not meet early stopping. Best iteration is:\n",
            "[500]\tvalid_0's auc: 0.843933\n",
            "Train score : 0.8541849092128035\n",
            "Validation score : 0.8439332030358\n",
            "\n",
            "***************************Fold :5***********************************************\n",
            "Training until validation scores don't improve for 200 rounds.\n",
            "[250]\tvalid_0's auc: 0.847773\n",
            "[500]\tvalid_0's auc: 0.850182\n",
            "Did not meet early stopping. Best iteration is:\n",
            "[500]\tvalid_0's auc: 0.850182\n",
            "Train score : 0.8535509628174535\n",
            "Validation score : 0.8501821335066009\n",
            "\n",
            "***************************Fold :6***********************************************\n",
            "Training until validation scores don't improve for 200 rounds.\n",
            "[250]\tvalid_0's auc: 0.849382\n",
            "[500]\tvalid_0's auc: 0.851262\n",
            "Did not meet early stopping. Best iteration is:\n",
            "[500]\tvalid_0's auc: 0.851262\n",
            "Train score : 0.8533841110392528\n",
            "Validation score : 0.8512616682035681\n",
            "\n",
            "***************************Fold :7***********************************************\n",
            "Training until validation scores don't improve for 200 rounds.\n",
            "[250]\tvalid_0's auc: 0.846093\n",
            "[500]\tvalid_0's auc: 0.848721\n",
            "Did not meet early stopping. Best iteration is:\n",
            "[500]\tvalid_0's auc: 0.848721\n",
            "Train score : 0.8536122440827612\n",
            "Validation score : 0.8487208728153217\n",
            "\n",
            "***************************Fold :8***********************************************\n",
            "Training until validation scores don't improve for 200 rounds.\n",
            "[250]\tvalid_0's auc: 0.846673\n",
            "[500]\tvalid_0's auc: 0.848878\n",
            "Did not meet early stopping. Best iteration is:\n",
            "[500]\tvalid_0's auc: 0.848878\n",
            "Train score : 0.8534467525309464\n",
            "Validation score : 0.8488782306318258\n",
            "\n",
            "***************************Fold :9***********************************************\n",
            "Training until validation scores don't improve for 200 rounds.\n",
            "[250]\tvalid_0's auc: 0.844998\n",
            "[500]\tvalid_0's auc: 0.847133\n",
            "Did not meet early stopping. Best iteration is:\n",
            "[500]\tvalid_0's auc: 0.847133\n",
            "Train score : 0.8538008867294262\n",
            "Validation score : 0.8471332767162488\n",
            "\n",
            "***************************Fold :10***********************************************\n",
            "Training until validation scores don't improve for 200 rounds.\n",
            "[250]\tvalid_0's auc: 0.845023\n",
            "[500]\tvalid_0's auc: 0.847122\n",
            "Did not meet early stopping. Best iteration is:\n",
            "[493]\tvalid_0's auc: 0.847127\n",
            "Train score : 0.8538264128191502\n",
            "Validation score : 0.8471269370405129\n",
            "\n",
            "Training ROC score : 0.8535672580525384\n",
            "Testing ROC score : 0.8491263214305903 +/- 0.002501734713595129\n"
          ]
        }
      ]
    },
    {
      "cell_type": "markdown",
      "source": [
        "### **LGBM Model Submission**"
      ],
      "metadata": {
        "id": "7TCnk74GXkwY"
      }
    },
    {
      "cell_type": "code",
      "execution_count": 116,
      "metadata": {
        "id": "EpkTTF9L8anl"
      },
      "outputs": [],
      "source": [
        "train_prediction['LightGBM_Prob'] = val_pred_lgb"
      ]
    },
    {
      "cell_type": "code",
      "source": [
        "test_prediction['LightGBM_Prob'] = test_pred_lgb\n",
        "lgb_test_pred = test_prediction['LightGBM_Prob'].apply(lambda x: 1 if x >= 0.2 else 0)\n",
        "\n",
        "sub_2 = sample_submission.copy()\n",
        "sub_2['target'] = lgb_test_pred\n",
        "sub_2.to_csv('Ml-Olympiad/LGBM_unbal.csv', index = False)"
      ],
      "metadata": {
        "id": "28takWelXlEh"
      },
      "execution_count": 117,
      "outputs": []
    },
    {
      "cell_type": "code",
      "source": [
        "sub_5['target'].value_counts(normalize = True)"
      ],
      "metadata": {
        "colab": {
          "base_uri": "https://localhost:8080/"
        },
        "id": "yd2G4Eqqc6lo",
        "outputId": "986086d5-3177-4182-ed01-a5e53d2306bd"
      },
      "execution_count": 133,
      "outputs": [
        {
          "output_type": "execute_result",
          "data": {
            "text/plain": [
              "0    0.838221\n",
              "1    0.161779\n",
              "Name: target, dtype: float64"
            ]
          },
          "metadata": {},
          "execution_count": 133
        }
      ]
    },
    {
      "cell_type": "markdown",
      "source": [
        "# **CATBOOST**"
      ],
      "metadata": {
        "id": "wZHZNfc4YBpI"
      }
    },
    {
      "cell_type": "code",
      "source": [
        "model_cat =  CatBoostClassifier(random_seed=34,use_best_model=True,\n",
        "                          n_estimators=5000,silent=True,eval_metric='AUC')\n",
        "\n",
        "train_roc_cat, val_roc_cat = [], []\n",
        "\n",
        "train_pred_cat = np.zeros(len(X))\n",
        "val_pred_cat = np.zeros(len(X))\n",
        "test_pred_cat = np.zeros(len(test))\n",
        "fold = 0\n",
        "\n",
        "for train_index, val_index in skfold.split(X, y):\n",
        "    X_train = X.iloc[train_index] ; y_train = y.iloc[train_index].values\n",
        "    X_val = X.iloc[val_index] ; y_val = y.iloc[val_index].values\n",
        "    fold += 1\n",
        "    print(f'***************************Fold :{fold}***********************************************')\n",
        "    \n",
        "    model_cat.fit(X_train,y_train,eval_set=[(X_val,y_val)],early_stopping_rounds=200,\n",
        "                               verbose=250,use_best_model=True)\n",
        "    train_pred = model_cat.predict_proba(X_train)[:,1]\n",
        "    val_pred = model_cat.predict_proba(X_val)[:,1]\n",
        "\n",
        "    train_pred_cat[train_index] = train_pred\n",
        "    val_pred_cat[val_index] = val_pred\n",
        "    \n",
        "    test_pred_cat += model_cat.predict_proba(test)[:,1]\n",
        "    \n",
        "    print(f'Train score : {roc_auc_score(y_train, train_pred)}')\n",
        "    print(f'Validation score : {roc_auc_score(y_val, val_pred)}\\n')\n",
        "    \n",
        "   \n",
        "    train_roc_cat.append(roc_auc_score(y_train, train_pred)); val_roc_cat.append(roc_auc_score(y_val,val_pred))\n",
        "    \n",
        "test_pred_cat = test_pred_cat / 10\n",
        "print(f'Training ROC score : {np.mean(train_roc_cat)}')\n",
        "print(f'Testing ROC score : {np.mean(val_roc_cat)} +/- {np.std(val_roc_cat)}')"
      ],
      "metadata": {
        "colab": {
          "base_uri": "https://localhost:8080/"
        },
        "id": "fizB_SYbYPtc",
        "outputId": "1882b668-af22-45b1-9b23-de2c2141f403"
      },
      "execution_count": 118,
      "outputs": [
        {
          "output_type": "stream",
          "name": "stdout",
          "text": [
            "***************************Fold :1***********************************************\n",
            "Learning rate set to 0.0551\n",
            "0:\ttest: 0.8049175\tbest: 0.8049175 (0)\ttotal: 59ms\tremaining: 4m 54s\n",
            "250:\ttest: 0.8532935\tbest: 0.8533851 (197)\ttotal: 11.5s\tremaining: 3m 38s\n",
            "Stopped by overfitting detector  (200 iterations wait)\n",
            "\n",
            "bestTest = 0.8533850946\n",
            "bestIteration = 197\n",
            "\n",
            "Shrink model to first 198 iterations.\n",
            "Train score : 0.8557690762054389\n",
            "Validation score : 0.8533850945902615\n",
            "\n",
            "***************************Fold :2***********************************************\n",
            "Learning rate set to 0.0551\n",
            "0:\ttest: 0.8139646\tbest: 0.8139646 (0)\ttotal: 48.3ms\tremaining: 4m 1s\n",
            "250:\ttest: 0.8544415\tbest: 0.8544615 (243)\ttotal: 11.2s\tremaining: 3m 32s\n",
            "Stopped by overfitting detector  (200 iterations wait)\n",
            "\n",
            "bestTest = 0.854461458\n",
            "bestIteration = 243\n",
            "\n",
            "Shrink model to first 244 iterations.\n",
            "Train score : 0.856985088224831\n",
            "Validation score : 0.8544614580230809\n",
            "\n",
            "***************************Fold :3***********************************************\n",
            "Learning rate set to 0.0551\n",
            "0:\ttest: 0.8014323\tbest: 0.8014323 (0)\ttotal: 41.9ms\tremaining: 3m 29s\n",
            "250:\ttest: 0.8502517\tbest: 0.8503515 (162)\ttotal: 11.1s\tremaining: 3m 30s\n",
            "Stopped by overfitting detector  (200 iterations wait)\n",
            "\n",
            "bestTest = 0.8503515488\n",
            "bestIteration = 162\n",
            "\n",
            "Shrink model to first 163 iterations.\n",
            "Train score : 0.8549964743932394\n",
            "Validation score : 0.8503515487897622\n",
            "\n",
            "***************************Fold :4***********************************************\n",
            "Learning rate set to 0.0551\n",
            "0:\ttest: 0.8082724\tbest: 0.8082724 (0)\ttotal: 73.7ms\tremaining: 6m 8s\n",
            "250:\ttest: 0.8439980\tbest: 0.8440439 (224)\ttotal: 11.3s\tremaining: 3m 33s\n",
            "Stopped by overfitting detector  (200 iterations wait)\n",
            "\n",
            "bestTest = 0.8440576168\n",
            "bestIteration = 257\n",
            "\n",
            "Shrink model to first 258 iterations.\n",
            "Train score : 0.8588393585023217\n",
            "Validation score : 0.8440576168037366\n",
            "\n",
            "***************************Fold :5***********************************************\n",
            "Learning rate set to 0.0551\n",
            "0:\ttest: 0.8124265\tbest: 0.8124265 (0)\ttotal: 46ms\tremaining: 3m 49s\n",
            "250:\ttest: 0.8517333\tbest: 0.8517333 (250)\ttotal: 11.5s\tremaining: 3m 37s\n",
            "Stopped by overfitting detector  (200 iterations wait)\n",
            "\n",
            "bestTest = 0.8517660679\n",
            "bestIteration = 255\n",
            "\n",
            "Shrink model to first 256 iterations.\n",
            "Train score : 0.8579169039126981\n",
            "Validation score : 0.8517660679285052\n",
            "\n",
            "***************************Fold :6***********************************************\n",
            "Learning rate set to 0.0551\n",
            "0:\ttest: 0.8120841\tbest: 0.8120841 (0)\ttotal: 40.2ms\tremaining: 3m 21s\n",
            "250:\ttest: 0.8521617\tbest: 0.8521632 (248)\ttotal: 11.4s\tremaining: 3m 35s\n",
            "500:\ttest: 0.8517624\tbest: 0.8522957 (316)\ttotal: 22.6s\tremaining: 3m 22s\n",
            "Stopped by overfitting detector  (200 iterations wait)\n",
            "\n",
            "bestTest = 0.8522956626\n",
            "bestIteration = 316\n",
            "\n",
            "Shrink model to first 317 iterations.\n",
            "Train score : 0.859702023539934\n",
            "Validation score : 0.8522956625562682\n",
            "\n",
            "***************************Fold :7***********************************************\n",
            "Learning rate set to 0.0551\n",
            "0:\ttest: 0.8032454\tbest: 0.8032454 (0)\ttotal: 41.7ms\tremaining: 3m 28s\n",
            "250:\ttest: 0.8490812\tbest: 0.8491350 (209)\ttotal: 11.2s\tremaining: 3m 30s\n",
            "Stopped by overfitting detector  (200 iterations wait)\n",
            "\n",
            "bestTest = 0.8491350154\n",
            "bestIteration = 209\n",
            "\n",
            "Shrink model to first 210 iterations.\n",
            "Train score : 0.8563951295845433\n",
            "Validation score : 0.8491350153862629\n",
            "\n",
            "***************************Fold :8***********************************************\n",
            "Learning rate set to 0.0551\n",
            "0:\ttest: 0.8105276\tbest: 0.8105276 (0)\ttotal: 41.6ms\tremaining: 3m 28s\n",
            "250:\ttest: 0.8503379\tbest: 0.8503455 (242)\ttotal: 11.5s\tremaining: 3m 37s\n",
            "Stopped by overfitting detector  (200 iterations wait)\n",
            "\n",
            "bestTest = 0.8503623655\n",
            "bestIteration = 254\n",
            "\n",
            "Shrink model to first 255 iterations.\n",
            "Train score : 0.8579268135915391\n",
            "Validation score : 0.8503623654538613\n",
            "\n",
            "***************************Fold :9***********************************************\n",
            "Learning rate set to 0.0551\n",
            "0:\ttest: 0.8044315\tbest: 0.8044315 (0)\ttotal: 40ms\tremaining: 3m 19s\n",
            "250:\ttest: 0.8489868\tbest: 0.8490078 (226)\ttotal: 11.2s\tremaining: 3m 31s\n",
            "Stopped by overfitting detector  (200 iterations wait)\n",
            "\n",
            "bestTest = 0.8491957536\n",
            "bestIteration = 281\n",
            "\n",
            "Shrink model to first 282 iterations.\n",
            "Train score : 0.8587697623929208\n",
            "Validation score : 0.8491957535699253\n",
            "\n",
            "***************************Fold :10***********************************************\n",
            "Learning rate set to 0.0551\n",
            "0:\ttest: 0.8086012\tbest: 0.8086012 (0)\ttotal: 40.4ms\tremaining: 3m 22s\n",
            "250:\ttest: 0.8484822\tbest: 0.8485031 (249)\ttotal: 11.4s\tremaining: 3m 34s\n",
            "500:\ttest: 0.8484705\tbest: 0.8487162 (425)\ttotal: 22.7s\tremaining: 3m 23s\n",
            "Stopped by overfitting detector  (200 iterations wait)\n",
            "\n",
            "bestTest = 0.8487162064\n",
            "bestIteration = 425\n",
            "\n",
            "Shrink model to first 426 iterations.\n",
            "Train score : 0.8629367662724542\n",
            "Validation score : 0.8487162063677859\n",
            "\n",
            "Training ROC score : 0.8580237396619921\n",
            "Testing ROC score : 0.850372678946945 +/- 0.0027744114640674573\n"
          ]
        }
      ]
    },
    {
      "cell_type": "markdown",
      "source": [
        "### **CatBoost Model Submission**"
      ],
      "metadata": {
        "id": "2w6X1mwucSd3"
      }
    },
    {
      "cell_type": "code",
      "source": [
        "train_prediction['CatBoost_Prob'] = val_pred_cat"
      ],
      "metadata": {
        "id": "YJXyD8FWaW0y"
      },
      "execution_count": 119,
      "outputs": []
    },
    {
      "cell_type": "code",
      "source": [
        "test_prediction['CatBoost_Prob'] = test_pred_cat\n",
        "cat_test_pred = test_prediction['CatBoost_Prob'].apply(lambda x: 1 if x >= 0.2 else 0)\n",
        "\n",
        "sub_3 = sample_submission.copy()\n",
        "sub_3['target'] = cat_test_pred\n",
        "sub_3.to_csv('Ml-Olympiad/CatBoost_unbal.csv', index = False)"
      ],
      "metadata": {
        "id": "Pe8O_vyIcRaf"
      },
      "execution_count": 120,
      "outputs": []
    },
    {
      "cell_type": "markdown",
      "source": [
        "# **Model Blending**"
      ],
      "metadata": {
        "id": "fty0Vs3AisML"
      }
    },
    {
      "cell_type": "code",
      "source": [
        "train_prediction['Blend'] = 0.5 * train_prediction['XGBoost_Prob'] + 0.3 * train_prediction['LightGBM_Prob'] + 0.2 * train_prediction['CatBoost_Prob']\n",
        "test_prediction['Blend'] = 0.5 * test_prediction['XGBoost_Prob'] + 0.3 * test_prediction['LightGBM_Prob'] + 0.2 * test_prediction['CatBoost_Prob']"
      ],
      "metadata": {
        "id": "45mxEs9Gi9WZ"
      },
      "execution_count": 121,
      "outputs": []
    },
    {
      "cell_type": "code",
      "source": [
        "sub_4 = sample_submission.copy()\n",
        "sub_4['target'] = test_prediction['Blend'].apply(lambda x: 1 if x >= 0.2 else 0)\n",
        "sub_4.to_csv('Ml-Olympiad/Blending_unbal.csv', index = False)"
      ],
      "metadata": {
        "id": "P0RgCePQQxli"
      },
      "execution_count": 122,
      "outputs": []
    },
    {
      "cell_type": "markdown",
      "source": [
        "# **Model Stacking**"
      ],
      "metadata": {
        "id": "uDEPYZ6EoTkN"
      }
    },
    {
      "cell_type": "code",
      "source": [
        "X_stack_T = train_prediction.drop('Blend', axis = 1)\n",
        "y_stack_T = y\n",
        "\n",
        "X_stack_t = test_prediction.drop('Blend', axis = 1)"
      ],
      "metadata": {
        "id": "fkUDnP9Aocw6"
      },
      "execution_count": 123,
      "outputs": []
    },
    {
      "cell_type": "code",
      "source": [
        "from sklearn.linear_model import LinearRegression"
      ],
      "metadata": {
        "id": "7Uc_-5NIozP1"
      },
      "execution_count": 124,
      "outputs": []
    },
    {
      "cell_type": "code",
      "source": [
        "stack_model = LinearRegression()\n",
        "stack_model.fit(X_stack_T, y_stack_T)\n",
        "\n",
        "train_prediction['Stack'] = stack_model.predict(X_stack_T)\n",
        "test_prediction['Stack'] = stack_model.predict(X_stack_t)"
      ],
      "metadata": {
        "id": "zQW5WLnopjwf"
      },
      "execution_count": 125,
      "outputs": []
    },
    {
      "cell_type": "code",
      "source": [
        "sub_5 = sample_submission.copy()\n",
        "sub_5['target'] = test_prediction['Stack'].apply(lambda x: 1 if x >= 0.2 else 0)\n",
        "sub_5.to_csv('Ml-Olympiad/Stacking_unbal.csv', index = False)"
      ],
      "metadata": {
        "id": "uIZFxYAv9ljO"
      },
      "execution_count": 126,
      "outputs": []
    },
    {
      "cell_type": "code",
      "source": [
        "pip freeze Requirements.txt"
      ],
      "metadata": {
        "colab": {
          "base_uri": "https://localhost:8080/"
        },
        "id": "Qd9OBa0fTQAk",
        "outputId": "8a55c2a6-85d0-4ad7-be7c-37eb79265a12"
      },
      "execution_count": 134,
      "outputs": [
        {
          "output_type": "stream",
          "name": "stdout",
          "text": [
            "absl-py==1.0.0\n",
            "alabaster==0.7.12\n",
            "albumentations==0.1.12\n",
            "altair==4.2.0\n",
            "appdirs==1.4.4\n",
            "argon2-cffi==21.3.0\n",
            "argon2-cffi-bindings==21.2.0\n",
            "arviz==0.11.4\n",
            "astor==0.8.1\n",
            "astropy==4.3.1\n",
            "astunparse==1.6.3\n",
            "atari-py==0.2.9\n",
            "atomicwrites==1.4.0\n",
            "attrs==21.4.0\n",
            "audioread==2.1.9\n",
            "autograd==1.3\n",
            "Babel==2.9.1\n",
            "backcall==0.2.0\n",
            "beautifulsoup4==4.6.3\n",
            "bleach==4.1.0\n",
            "blis==0.4.1\n",
            "bokeh==2.3.3\n",
            "Bottleneck==1.3.4\n",
            "branca==0.4.2\n",
            "bs4==0.0.1\n",
            "CacheControl==0.12.10\n",
            "cached-property==1.5.2\n",
            "cachetools==4.2.4\n",
            "catalogue==1.0.0\n",
            "catboost==1.0.4\n",
            "certifi==2021.10.8\n",
            "cffi==1.15.0\n",
            "cftime==1.5.2\n",
            "chardet==3.0.4\n",
            "charset-normalizer==2.0.12\n",
            "click==7.1.2\n",
            "cloudpickle==1.3.0\n",
            "cmake==3.12.0\n",
            "cmdstanpy==0.9.5\n",
            "colorcet==3.0.0\n",
            "colorlover==0.3.0\n",
            "community==1.0.0b1\n",
            "contextlib2==0.5.5\n",
            "convertdate==2.4.0\n",
            "coverage==3.7.1\n",
            "coveralls==0.5\n",
            "crcmod==1.7\n",
            "cufflinks==0.17.3\n",
            "cvxopt==1.2.7\n",
            "cvxpy==1.0.31\n",
            "cycler==0.11.0\n",
            "cymem==2.0.6\n",
            "Cython==0.29.28\n",
            "daft==0.0.4\n",
            "dask==2.12.0\n",
            "datascience==0.10.6\n",
            "debugpy==1.0.0\n",
            "decorator==4.4.2\n",
            "defusedxml==0.7.1\n",
            "descartes==1.1.0\n",
            "dill==0.3.4\n",
            "distributed==1.25.3\n",
            "dlib @ file:///dlib-19.18.0-cp37-cp37m-linux_x86_64.whl\n",
            "dm-tree==0.1.6\n",
            "docopt==0.6.2\n",
            "docutils==0.17.1\n",
            "dopamine-rl==1.0.5\n",
            "earthengine-api==0.1.300\n",
            "easydict==1.9\n",
            "ecos==2.0.10\n",
            "editdistance==0.5.3\n",
            "en-core-web-sm @ https://github.com/explosion/spacy-models/releases/download/en_core_web_sm-2.2.5/en_core_web_sm-2.2.5.tar.gz\n",
            "entrypoints==0.4\n",
            "ephem==4.1.3\n",
            "et-xmlfile==1.1.0\n",
            "fa2==0.3.5\n",
            "fastai==1.0.61\n",
            "fastdtw==0.3.4\n",
            "fastprogress==1.0.2\n",
            "fastrlock==0.8\n",
            "fbprophet==0.7.1\n",
            "feather-format==0.4.1\n",
            "filelock==3.6.0\n",
            "firebase-admin==4.4.0\n",
            "fix-yahoo-finance==0.0.22\n",
            "Flask==1.1.4\n",
            "flatbuffers==2.0\n",
            "folium==0.8.3\n",
            "future==0.16.0\n",
            "gast==0.5.3\n",
            "GDAL==2.2.2\n",
            "gdown==4.2.2\n",
            "gensim==3.6.0\n",
            "geographiclib==1.52\n",
            "geopy==1.17.0\n",
            "gin-config==0.5.0\n",
            "glob2==0.7\n",
            "google==2.0.3\n",
            "google-api-core==1.26.3\n",
            "google-api-python-client==1.12.10\n",
            "google-auth==1.35.0\n",
            "google-auth-httplib2==0.0.4\n",
            "google-auth-oauthlib==0.4.6\n",
            "google-cloud-bigquery==1.21.0\n",
            "google-cloud-bigquery-storage==1.1.0\n",
            "google-cloud-core==1.0.3\n",
            "google-cloud-datastore==1.8.0\n",
            "google-cloud-firestore==1.7.0\n",
            "google-cloud-language==1.2.0\n",
            "google-cloud-storage==1.18.1\n",
            "google-cloud-translate==1.5.0\n",
            "google-colab @ file:///colabtools/dist/google-colab-1.0.0.tar.gz\n",
            "google-pasta==0.2.0\n",
            "google-resumable-media==0.4.1\n",
            "googleapis-common-protos==1.55.0\n",
            "googledrivedownloader==0.4\n",
            "graphviz==0.10.1\n",
            "greenlet==1.1.2\n",
            "grpcio==1.44.0\n",
            "gspread==3.4.2\n",
            "gspread-dataframe==3.0.8\n",
            "gym==0.17.3\n",
            "h5py==3.1.0\n",
            "HeapDict==1.0.1\n",
            "hijri-converter==2.2.3\n",
            "holidays==0.10.5.2\n",
            "holoviews==1.14.8\n",
            "html5lib==1.0.1\n",
            "httpimport==0.5.18\n",
            "httplib2==0.17.4\n",
            "httplib2shim==0.0.3\n",
            "humanize==0.5.1\n",
            "hyperopt==0.1.2\n",
            "ideep4py==2.0.0.post3\n",
            "idna==2.10\n",
            "imageio==2.4.1\n",
            "imagesize==1.3.0\n",
            "imbalanced-learn==0.8.1\n",
            "imblearn==0.0\n",
            "imgaug==0.2.9\n",
            "importlib-metadata==4.11.1\n",
            "importlib-resources==5.4.0\n",
            "imutils==0.5.4\n",
            "inflect==2.1.0\n",
            "iniconfig==1.1.1\n",
            "intel-openmp==2022.0.2\n",
            "intervaltree==2.1.0\n",
            "ipykernel==4.10.1\n",
            "ipython==5.5.0\n",
            "ipython-genutils==0.2.0\n",
            "ipython-sql==0.3.9\n",
            "ipywidgets==7.6.5\n",
            "itsdangerous==1.1.0\n",
            "jax==0.3.1\n",
            "jaxlib @ https://storage.googleapis.com/jax-releases/cuda11/jaxlib-0.3.0+cuda11.cudnn805-cp37-none-manylinux2010_x86_64.whl\n",
            "jedi==0.18.1\n",
            "jieba==0.42.1\n",
            "Jinja2==2.11.3\n",
            "joblib==1.1.0\n",
            "jpeg4py==0.1.4\n",
            "jsonschema==4.3.3\n",
            "jupyter==1.0.0\n",
            "jupyter-client==5.3.5\n",
            "jupyter-console==5.2.0\n",
            "jupyter-core==4.9.2\n",
            "jupyterlab-pygments==0.1.2\n",
            "jupyterlab-widgets==1.0.2\n",
            "kaggle==1.5.12\n",
            "kapre==0.3.7\n",
            "keras==2.8.0\n",
            "Keras-Preprocessing==1.1.2\n",
            "keras-vis==0.4.1\n",
            "kiwisolver==1.3.2\n",
            "korean-lunar-calendar==0.2.1\n",
            "libclang==13.0.0\n",
            "librosa==0.8.1\n",
            "lightgbm==2.2.3\n",
            "llvmlite==0.34.0\n",
            "lmdb==0.99\n",
            "LunarCalendar==0.0.9\n",
            "lxml==4.2.6\n",
            "Markdown==3.3.6\n",
            "MarkupSafe==2.0.1\n",
            "matplotlib==3.2.2\n",
            "matplotlib-inline==0.1.3\n",
            "matplotlib-venn==0.11.6\n",
            "missingno==0.5.0\n",
            "mistune==0.8.4\n",
            "mizani==0.6.0\n",
            "mkl==2019.0\n",
            "mlxtend==0.14.0\n",
            "more-itertools==8.12.0\n",
            "moviepy==0.2.3.5\n",
            "mpmath==1.2.1\n",
            "msgpack==1.0.3\n",
            "multiprocess==0.70.12.2\n",
            "multitasking==0.0.10\n",
            "murmurhash==1.0.6\n",
            "music21==5.5.0\n",
            "natsort==5.5.0\n",
            "nbclient==0.5.11\n",
            "nbconvert==5.6.1\n",
            "nbformat==5.1.3\n",
            "nest-asyncio==1.5.4\n",
            "netCDF4==1.5.8\n",
            "networkx==2.6.3\n",
            "nibabel==3.0.2\n",
            "nltk==3.2.5\n",
            "notebook==5.3.1\n",
            "numba==0.51.2\n",
            "numexpr==2.8.1\n",
            "numpy==1.21.5\n",
            "nvidia-ml-py3==7.352.0\n",
            "oauth2client==4.1.3\n",
            "oauthlib==3.2.0\n",
            "okgrade==0.4.3\n",
            "opencv-contrib-python==4.1.2.30\n",
            "opencv-python==4.1.2.30\n",
            "openpyxl==3.0.9\n",
            "opt-einsum==3.3.0\n",
            "osqp==0.6.2.post0\n",
            "packaging==21.3\n",
            "palettable==3.3.0\n",
            "pandas==1.3.5\n",
            "pandas-datareader==0.9.0\n",
            "pandas-gbq==0.13.3\n",
            "pandas-profiling==1.4.1\n",
            "pandocfilters==1.5.0\n",
            "panel==0.12.1\n",
            "param==1.12.0\n",
            "parso==0.8.3\n",
            "pathlib==1.0.1\n",
            "patsy==0.5.2\n",
            "pep517==0.12.0\n",
            "pexpect==4.8.0\n",
            "pickleshare==0.7.5\n",
            "Pillow==7.1.2\n",
            "pip-tools==6.2.0\n",
            "plac==1.1.3\n",
            "plotly==5.5.0\n",
            "plotnine==0.6.0\n",
            "pluggy==0.7.1\n",
            "pooch==1.6.0\n",
            "portpicker==1.3.9\n",
            "prefetch-generator==1.0.1\n",
            "preshed==3.0.6\n",
            "prettytable==3.1.1\n",
            "progressbar2==3.38.0\n",
            "prometheus-client==0.13.1\n",
            "promise==2.3\n",
            "prompt-toolkit==1.0.18\n",
            "protobuf==3.17.3\n",
            "psutil==5.4.8\n",
            "psycopg2==2.7.6.1\n",
            "ptyprocess==0.7.0\n",
            "py==1.11.0\n",
            "pyarrow==6.0.1\n",
            "pyasn1==0.4.8\n",
            "pyasn1-modules==0.2.8\n",
            "pycocotools==2.0.4\n",
            "pycparser==2.21\n",
            "pyct==0.4.8\n",
            "pydata-google-auth==1.3.0\n",
            "pydot==1.3.0\n",
            "pydot-ng==2.0.0\n",
            "pydotplus==2.0.2\n",
            "PyDrive==1.3.1\n",
            "pyemd==0.5.1\n",
            "pyerfa==2.0.0.1\n",
            "pyglet==1.5.0\n",
            "Pygments==2.6.1\n",
            "pygobject==3.26.1\n",
            "pymc3==3.11.4\n",
            "PyMeeus==0.5.11\n",
            "pymongo==4.0.1\n",
            "pymystem3==0.2.0\n",
            "PyOpenGL==3.1.6\n",
            "pyparsing==3.0.7\n",
            "pyrsistent==0.18.1\n",
            "pysndfile==1.3.8\n",
            "PySocks==1.7.1\n",
            "pystan==2.19.1.1\n",
            "pytest==3.6.4\n",
            "python-apt==0.0.0\n",
            "python-chess==0.23.11\n",
            "python-dateutil==2.8.2\n",
            "python-louvain==0.16\n",
            "python-slugify==6.1.0\n",
            "python-utils==3.1.0\n",
            "pytz==2018.9\n",
            "pyviz-comms==2.1.0\n",
            "PyWavelets==1.2.0\n",
            "PyYAML==3.13\n",
            "pyzmq==22.3.0\n",
            "qdldl==0.1.5.post0\n",
            "qtconsole==5.2.2\n",
            "QtPy==2.0.1\n",
            "regex==2019.12.20\n",
            "requests==2.23.0\n",
            "requests-oauthlib==1.3.1\n",
            "resampy==0.2.2\n",
            "rpy2==3.4.5\n",
            "rsa==4.8\n",
            "scikit-image==0.18.3\n",
            "scikit-learn==1.0.2\n",
            "scipy==1.4.1\n",
            "screen-resolution-extra==0.0.0\n",
            "scs==3.2.0\n",
            "seaborn==0.11.2\n",
            "semver==2.13.0\n",
            "Send2Trash==1.8.0\n",
            "setuptools-git==1.2\n",
            "Shapely==1.8.1.post1\n",
            "simplegeneric==0.8.1\n",
            "six==1.15.0\n",
            "sklearn==0.0\n",
            "sklearn-pandas==1.8.0\n",
            "smart-open==5.2.1\n",
            "snowballstemmer==2.2.0\n",
            "sortedcontainers==2.4.0\n",
            "SoundFile==0.10.3.post1\n",
            "spacy==2.2.4\n",
            "Sphinx==1.8.6\n",
            "sphinxcontrib-serializinghtml==1.1.5\n",
            "sphinxcontrib-websupport==1.2.4\n",
            "SQLAlchemy==1.4.31\n",
            "sqlparse==0.4.2\n",
            "srsly==1.0.5\n",
            "statsmodels==0.10.2\n",
            "sympy==1.7.1\n",
            "tables==3.7.0\n",
            "tabulate==0.8.9\n",
            "tblib==1.7.0\n",
            "tenacity==8.0.1\n",
            "tensorboard==2.8.0\n",
            "tensorboard-data-server==0.6.1\n",
            "tensorboard-plugin-wit==1.8.1\n",
            "tensorflow @ file:///tensorflow-2.8.0-cp37-cp37m-linux_x86_64.whl\n",
            "tensorflow-datasets==4.0.1\n",
            "tensorflow-estimator==2.8.0\n",
            "tensorflow-gcs-config==2.8.0\n",
            "tensorflow-hub==0.12.0\n",
            "tensorflow-io-gcs-filesystem==0.24.0\n",
            "tensorflow-metadata==1.6.0\n",
            "tensorflow-probability==0.16.0\n",
            "termcolor==1.1.0\n",
            "terminado==0.13.1\n",
            "testpath==0.6.0\n",
            "text-unidecode==1.3\n",
            "textblob==0.15.3\n",
            "Theano-PyMC==1.1.2\n",
            "thinc==7.4.0\n",
            "threadpoolctl==3.1.0\n",
            "tifffile==2021.11.2\n",
            "tomli==2.0.1\n",
            "toolz==0.11.2\n",
            "torch @ https://download.pytorch.org/whl/cu111/torch-1.10.0%2Bcu111-cp37-cp37m-linux_x86_64.whl\n",
            "torchaudio @ https://download.pytorch.org/whl/cu111/torchaudio-0.10.0%2Bcu111-cp37-cp37m-linux_x86_64.whl\n",
            "torchsummary==1.5.1\n",
            "torchtext==0.11.0\n",
            "torchvision @ https://download.pytorch.org/whl/cu111/torchvision-0.11.1%2Bcu111-cp37-cp37m-linux_x86_64.whl\n",
            "tornado==5.1.1\n",
            "tqdm==4.62.3\n",
            "traitlets==5.1.1\n",
            "tweepy==3.10.0\n",
            "typeguard==2.7.1\n",
            "typing-extensions==3.10.0.2\n",
            "tzlocal==1.5.1\n",
            "uritemplate==3.0.1\n",
            "urllib3==1.24.3\n",
            "vega-datasets==0.9.0\n",
            "wasabi==0.9.0\n",
            "wcwidth==0.2.5\n",
            "webencodings==0.5.1\n",
            "Werkzeug==1.0.1\n",
            "widgetsnbextension==3.5.2\n",
            "wordcloud==1.5.0\n",
            "wrapt==1.13.3\n",
            "xarray==0.18.2\n",
            "xgboost==0.90\n",
            "xkit==0.0.0\n",
            "xlrd==1.1.0\n",
            "xlwt==1.3.0\n",
            "zict==2.0.0\n",
            "zipp==3.7.0\n"
          ]
        }
      ]
    },
    {
      "cell_type": "code",
      "source": [
        ""
      ],
      "metadata": {
        "id": "9Z_Xw2OshRUi"
      },
      "execution_count": null,
      "outputs": []
    }
  ],
  "metadata": {
    "colab": {
      "collapsed_sections": [
        "pFKybZQZ8SCP",
        "EWbwL2H9Akwm",
        "fty0Vs3AisML"
      ],
      "name": "ML_Olympiad_Hackathon_Unbalanced.ipynb",
      "provenance": []
    },
    "kernelspec": {
      "display_name": "Python 3 (ipykernel)",
      "language": "python",
      "name": "python3"
    },
    "language_info": {
      "codemirror_mode": {
        "name": "ipython",
        "version": 3
      },
      "file_extension": ".py",
      "mimetype": "text/x-python",
      "name": "python",
      "nbconvert_exporter": "python",
      "pygments_lexer": "ipython3",
      "version": "3.9.7"
    }
  },
  "nbformat": 4,
  "nbformat_minor": 0
}